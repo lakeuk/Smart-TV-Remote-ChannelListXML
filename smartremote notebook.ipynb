{
 "cells": [
  {
   "cell_type": "code",
   "execution_count": 1,
   "id": "c3e0fd77-4e19-45ea-bf20-0938476977e2",
   "metadata": {
    "execution": {
     "iopub.execute_input": "2022-04-08T16:35:51.419731Z",
     "iopub.status.busy": "2022-04-08T16:35:51.418731Z",
     "iopub.status.idle": "2022-04-08T16:35:51.431732Z",
     "shell.execute_reply": "2022-04-08T16:35:51.430732Z",
     "shell.execute_reply.started": "2022-04-08T16:35:51.418731Z"
    },
    "tags": []
   },
   "outputs": [],
   "source": [
    "#!pip install pybase64"
   ]
  },
  {
   "cell_type": "code",
   "execution_count": 2,
   "id": "2601a766-f70d-4e57-b5c5-aace277b3517",
   "metadata": {
    "execution": {
     "iopub.execute_input": "2022-04-08T16:35:51.433732Z",
     "iopub.status.busy": "2022-04-08T16:35:51.433732Z",
     "iopub.status.idle": "2022-04-08T16:35:52.531795Z",
     "shell.execute_reply": "2022-04-08T16:35:52.530795Z",
     "shell.execute_reply.started": "2022-04-08T16:35:51.433732Z"
    },
    "tags": []
   },
   "outputs": [],
   "source": [
    "import os\n",
    "import base64\n",
    "import pandas as pd\n",
    "\n",
    "def split_len(seq, length):\n",
    "    return [seq[i:i + length] for i in range(0, len(seq), length)]\n",
    "\n",
    "DIRs = ['.\\mediaportal-uk-logos-master\\TV\\.Light',\n",
    "        '.\\mediaportal-uk-logos-master\\Radio\\.Light']\n",
    "source = 'mediaportal-uk-logos'\n",
    "\n",
    "myarray = []\n",
    "\n",
    "for directory in DIRs:\n",
    "    for r, d, f in os.walk(directory):\n",
    "        for file in f:\n",
    "            filename, filetype = file.split(\".\", 1)\n",
    "            with open(directory + \"\\\\\" + file, \"rb+\") as image_file:\n",
    "                data = str(base64.standard_b64encode(image_file.read()), 'utf-8')\n",
    "                data = \"\\n\".join(split_len(data, 72))\n",
    "                item = [filename, filetype, data, source]\n",
    "                myarray.append(item)\n",
    "\n",
    "dfImages = pd.DataFrame(myarray, columns=['ImageName','ImageType','Base64Image','ImageSource'])"
   ]
  },
  {
   "cell_type": "code",
   "execution_count": 3,
   "id": "d0b4feae-1434-47da-9c73-cf2e713a055f",
   "metadata": {
    "execution": {
     "iopub.execute_input": "2022-04-08T16:35:52.533795Z",
     "iopub.status.busy": "2022-04-08T16:35:52.532795Z",
     "iopub.status.idle": "2022-04-08T16:35:52.599799Z",
     "shell.execute_reply": "2022-04-08T16:35:52.597799Z",
     "shell.execute_reply.started": "2022-04-08T16:35:52.533795Z"
    },
    "tags": []
   },
   "outputs": [
    {
     "data": {
      "text/html": [
       "<div>\n",
       "<style scoped>\n",
       "    .dataframe tbody tr th:only-of-type {\n",
       "        vertical-align: middle;\n",
       "    }\n",
       "\n",
       "    .dataframe tbody tr th {\n",
       "        vertical-align: top;\n",
       "    }\n",
       "\n",
       "    .dataframe thead th {\n",
       "        text-align: right;\n",
       "    }\n",
       "</style>\n",
       "<table border=\"1\" class=\"dataframe\">\n",
       "  <thead>\n",
       "    <tr style=\"text-align: right;\">\n",
       "      <th></th>\n",
       "      <th>Platform</th>\n",
       "      <th>ChannelID</th>\n",
       "      <th>Name</th>\n",
       "      <th>ImageRef</th>\n",
       "      <th>Category</th>\n",
       "      <th>ImageName</th>\n",
       "      <th>ImageType</th>\n",
       "      <th>Base64Image</th>\n",
       "      <th>ImageSource</th>\n",
       "    </tr>\n",
       "  </thead>\n",
       "  <tbody>\n",
       "  </tbody>\n",
       "</table>\n",
       "</div>"
      ],
      "text/plain": [
       "Empty DataFrame\n",
       "Columns: [Platform, ChannelID, Name, ImageRef, Category, ImageName, ImageType, Base64Image, ImageSource]\n",
       "Index: []"
      ]
     },
     "execution_count": 3,
     "metadata": {},
     "output_type": "execute_result"
    }
   ],
   "source": [
    "dfChannelList = pd.read_csv('ChannelList.csv')\n",
    "\n",
    "df = pd.merge(dfChannelList, dfImages, how='left', left_on='ImageRef', right_on='ImageName')\n",
    "\n",
    "# Channels not matching Image\n",
    "df[df.isna().any(axis=1)]"
   ]
  },
  {
   "cell_type": "code",
   "execution_count": 4,
   "id": "dd5efb6d-4b48-4a86-bc94-dae22c06fe57",
   "metadata": {
    "execution": {
     "iopub.execute_input": "2022-04-08T16:35:52.604799Z",
     "iopub.status.busy": "2022-04-08T16:35:52.604799Z",
     "iopub.status.idle": "2022-04-08T16:35:53.056825Z",
     "shell.execute_reply": "2022-04-08T16:35:53.055825Z",
     "shell.execute_reply.started": "2022-04-08T16:35:52.604799Z"
    },
    "tags": []
   },
   "outputs": [],
   "source": [
    "f = open(\"smartremote.xml\", \"w\")\n",
    "\n",
    "f.write(\"<?xml version='1.0' encoding='UTF-8' standalone='yes' ?>\\n\")\n",
    "f.write(\"<SmartTVChannels>\\n\")\n",
    "\n",
    "for index, row in df.iterrows():\n",
    "    channelName = row['Name']\n",
    "    channelNo = row['ChannelID']\n",
    "    Image64 = row['Base64Image']\n",
    "    Image64 = str(Image64)\n",
    "    #Image64 = textwrap.fill(Image64, 72)\n",
    "    f.write('<channel channel_id=\\\"' + channelName + '\\\" channel_list_number=\\\"' + str(channelNo) + '\\\">' + Image64 + '\\n')\n",
    "    f.write('</channel>\\n')\n",
    "f.write(\"</SmartTVChannels>\\n\")\n",
    "f.close()"
   ]
  },
  {
   "cell_type": "code",
   "execution_count": 5,
   "id": "487325f1-2891-44af-b2a9-1590bf7093f4",
   "metadata": {
    "execution": {
     "iopub.execute_input": "2022-04-08T16:35:53.062825Z",
     "iopub.status.busy": "2022-04-08T16:35:53.062825Z",
     "iopub.status.idle": "2022-04-08T16:35:53.121829Z",
     "shell.execute_reply": "2022-04-08T16:35:53.120828Z",
     "shell.execute_reply.started": "2022-04-08T16:35:53.062825Z"
    },
    "tags": []
   },
   "outputs": [
    {
     "data": {
      "text/plain": [
       "' DEBUGGING \\nlist = !.\\x08ase64\\x0864.exe -e \".\\x08ase64\\\\BBC One.png\"\\n\\nfor line in list:\\n    print(line)\\n    \\n'"
      ]
     },
     "execution_count": 5,
     "metadata": {},
     "output_type": "execute_result"
    }
   ],
   "source": [
    "\"\"\" DEBUGGING \n",
    "list = !.\\base64\\b64.exe -e \".\\base64\\BBC One.png\"\n",
    "\n",
    "for line in list:\n",
    "    print(line)\n",
    "    \n",
    "\"\"\""
   ]
  }
 ],
 "metadata": {
  "kernelspec": {
   "display_name": "Python 3 (ipykernel)",
   "language": "python",
   "name": "python3"
  },
  "language_info": {
   "codemirror_mode": {
    "name": "ipython",
    "version": 3
   },
   "file_extension": ".py",
   "mimetype": "text/x-python",
   "name": "python",
   "nbconvert_exporter": "python",
   "pygments_lexer": "ipython3",
   "version": "3.8.6"
  }
 },
 "nbformat": 4,
 "nbformat_minor": 5
}
